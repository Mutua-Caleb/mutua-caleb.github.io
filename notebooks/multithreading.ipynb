{
 "cells": [
  {
   "cell_type": "markdown",
   "metadata": {},
   "source": [
    "## Introduction to Multithreading in Python\n",
    "#### How Python's  `threading` module works\n",
    "- A thread is the smallest unit of execution in a program. Multiple threads can run concurrently(not in parallel, due to Python's GIL)\n",
    "- Threads share the same memory space, making them efficient for tasks that require access to shared data. However, this also leads to challenges, such as **race conditions**\n",
    "- The  `threading` module provides tools to manage and synchronize threads\n",
    "\n",
    "#### How Do we Create Threads? \n",
    "- The simplest way to create a thread is to use the  `Thread`  class from the  `threading` module. You can either pass a function to  `Thread`, or subclass it and override the  `run`  \n"
   ]
  },
  {
   "cell_type": "code",
   "execution_count": 1,
   "metadata": {},
   "outputs": [
    {
     "name": "stdout",
     "output_type": "stream",
     "text": [
      "Worker thread started\n",
      "Worker thread started\n",
      "Worker thread finished\n",
      "Worker thread finished\n",
      "Both threads completed\n"
     ]
    }
   ],
   "source": [
    "import threading\n",
    "import time \n",
    "\n",
    "#  simple function to run in a thread\n",
    "def worker(): \n",
    "    print(\"Worker thread started\")\n",
    "    time.sleep(2)\n",
    "    print(\"Worker thread finished\")\n",
    "\n",
    "#Creating threads\n",
    "thread1 = threading.Thread(target=worker)\n",
    "thread2 = threading.Thread(target=worker)\n",
    "\n",
    "# Starting threads\n",
    "thread1.start()\n",
    "thread2.start()\n",
    "\n",
    "#Waiting for threads to finish \n",
    "thread1.join()\n",
    "thread2.join()\n",
    "\n",
    "print(\"Both threads completed\")"
   ]
  },
  {
   "cell_type": "markdown",
   "metadata": {},
   "source": [
    "- `threading.Thread(target=worker)` : creates a thread that will execute the  `worker`  function \n",
    "-  `start()` : starts the thread's activity\n",
    "-   `join`: waits for the thread to complete before the main thread continues  \n",
    "\n",
    "**Example 2: subclassing  `Thread`** "
   ]
  },
  {
   "cell_type": "code",
   "execution_count": 4,
   "metadata": {},
   "outputs": [
    {
     "name": "stdout",
     "output_type": "stream",
     "text": [
      "Worker thread Thread-11 started\n",
      "Worker thread Thread-12 started\n",
      "Worker thread Thread-12 finishedWorker thread Thread-11 finished\n",
      "\n",
      "Both threads completed\n"
     ]
    }
   ],
   "source": [
    "import threading\n",
    "import time\n",
    "\n",
    "class WorkerThread(threading.Thread):\n",
    "    def run(self):\n",
    "        print(f\"Worker thread {self.name} started\")\n",
    "        time.sleep(2)\n",
    "        print(f\"Worker thread {self.name} finished\")\n",
    "\n",
    "#Creating threads\n",
    "thread1 = WorkerThread() \n",
    "thread2 = WorkerThread() \n",
    "\n",
    "#starting threads \n",
    "thread1.start()\n",
    "thread2.start() \n",
    "\n",
    "#Waiting for threads to finish \n",
    "thread1.join()\n",
    "thread2.join() \n",
    "\n",
    "print(\"Both threads completed\")"
   ]
  },
  {
   "cell_type": "markdown",
   "metadata": {},
   "source": [
    "- Here, create a custom thread class by subclassing  `Thread`  and overriding the  `run`  method, which contains the code that runs when the thread is started. \n",
    "\n",
    "#### Thread Synchronization\n",
    "- When multiple threads access shared resources (like data or files), it's important to **synchronize** access to avoid race conditions, where multiple threads modify a shared resource concurrently, leading to inconsistent results\n",
    "\n",
    "##### Locking Mechanism \n",
    "- The  `threading` module provides a **Lock** or **Mutex** to ensure that only one thread accesses a critical section of code at a time"
   ]
  },
  {
   "cell_type": "code",
   "execution_count": 7,
   "metadata": {},
   "outputs": [
    {
     "name": "stdout",
     "output_type": "stream",
     "text": [
      "Final balance: 1000\n"
     ]
    }
   ],
   "source": [
    "import threading\n",
    "\n",
    "balance = 0 #shared resource\n",
    "lock = threading.Lock() \n",
    "\n",
    "def deposit(amount): \n",
    "    global balance\n",
    "    with lock: #Only one thread can modify the balance at a time \n",
    "        current_balance = balance \n",
    "        current_balance +=amount\n",
    "        balance = current_balance\n",
    "\n",
    "threads = []\n",
    "for i in range(10): #create 10 threads \n",
    "    t = threading.Thread(target=deposit, args=(100,))\n",
    "    threads.append(t)\n",
    "    t.start() \n",
    "\n",
    "# Wait for all threads to finish\n",
    "for t in threads: \n",
    "    t.join() \n",
    "print(f\"Final balance: {balance}\")\n",
    "\n"
   ]
  },
  {
   "cell_type": "markdown",
   "metadata": {},
   "source": [
    "Here: \n",
    "-  `lock = threading.Lock()`: A lock object is created\n",
    "-   `with lock`: Ensures only one thread at a variable executes the code block that modifies the shared  `balance` variable. This prevents race conditions \n",
    "-   Without the lock, different, different threads might access  `balance` simultaneously, leading to incorrect results. \n",
    "\n",
    "#### Thread communication \n",
    "When you have multiple threads running, sometimes they need to communicate with each other. Python provides  `Queues`  for safe thread communication \n",
    "\n",
    "**Using queue.Queue**\n"
   ]
  },
  {
   "cell_type": "code",
   "execution_count": 11,
   "metadata": {},
   "outputs": [
    {
     "name": "stdout",
     "output_type": "stream",
     "text": [
      "Processing task: Task-0Processing task: Task-1\n",
      "\n",
      "Processing task: Task-2\n",
      "Processing task: Task-3Processing task: Task-4\n",
      "\n",
      "All tasks completed\n"
     ]
    }
   ],
   "source": [
    "import threading\n",
    "import queue\n",
    "import time \n",
    "\n",
    "#Create a shared queue \n",
    "task_queue = queue.Queue()\n",
    "\n",
    "def worker(): \n",
    "    while True: \n",
    "        task = task_queue.get() # Get a task from the queue \n",
    "        if task is None: #Stop if we receive None \n",
    "            break \n",
    "        print(f\"Processing task: {task}\")\n",
    "        time.sleep(1)\n",
    "        task_queue.task_done() #Signal that the task is done \n",
    "\n",
    "#Creating and starting worker threads \n",
    "threads = []\n",
    "for _ in range(3): \n",
    "    t = threading.Thread(target = worker)\n",
    "    threads.append(t)\n",
    "    t.start() \n",
    "\n",
    "#Adding tasks to the queue \n",
    "for i in range(5): \n",
    "    task_queue.put(f\"Task-{i}\")\n",
    "\n",
    "#wait for all tasks to be processed \n",
    "task_queue.join() \n",
    "\n",
    "#Stopping the worker threads\n",
    "for _ in range(3): \n",
    "    task_queue.put(None)\n",
    "\n",
    "# Wait for all threads to complete \n",
    "for t in threads: \n",
    "    t.join() \n",
    "\n",
    "print(\"All tasks completed\")"
   ]
  },
  {
   "cell_type": "markdown",
   "metadata": {},
   "source": [
    "- `queue.Queue()` : A thread-safe queue used for communication between threads\n",
    "- `task_queue.get()`: Retrieves a task from the queue. If the queue is empty, it blocks until an item becomes available\n",
    "- `task_queue.task_done()` : signals that a task is complete \n",
    "- `task_queue.put()`: Adds a  task to the queue\n",
    "- This design pattern(Worker threads consuming tasks from a queue) is common in concurrent programming\n"
   ]
  },
  {
   "cell_type": "markdown",
   "metadata": {},
   "source": [
    "#### Daemon Threads\n",
    "- A **daemon thread** is a thread that runs in the background and is terminated automatically when the main program exits, meaning it will not prevent the program from terminating"
   ]
  },
  {
   "cell_type": "code",
   "execution_count": 12,
   "metadata": {},
   "outputs": [],
   "source": [
    "import threading\n",
    "import time\n",
    "\n",
    "def background_worker(): \n",
    "    while True: \n",
    "        print(\"Background thread running\")\n",
    "        time.sleep(1)\n",
    "        \n",
    "\n",
    "#Create a daemon thread \n",
    "t = threading.Thread(target=background_worker, daemon=True)\n",
    "t.start() \n",
    "\n",
    "#Main thread sleeps for 3 seconds before exiting \n",
    "time.sleep(3)\n",
    "print(\"Main thread exiting\")"
   ]
  },
  {
   "cell_type": "markdown",
   "metadata": {},
   "source": [
    "- The above code will run forever because we forgot to tell the background_worker to stop. so even after we've exited the main thread, it will continue to run since we didn't exit it. \n",
    "- To fix this, we'll need to tell it explictly to stop. It's like the main thread saying, \"when I am done, you should also stop\" \n",
    "- Here's the fix"
   ]
  },
  {
   "cell_type": "code",
   "execution_count": 2,
   "metadata": {},
   "outputs": [
    {
     "name": "stdout",
     "output_type": "stream",
     "text": [
      "Background thread running\n",
      "Background thread running\n",
      "Background thread running\n",
      "main thread exitingBackground thread running\n",
      "\n"
     ]
    }
   ],
   "source": [
    "import threading \n",
    "import time \n",
    "\n",
    "stop_flag = threading.Event() \n",
    "\n",
    "def background_worker(): \n",
    "    while not stop_flag.is_set(): \n",
    "        print(\"Background thread running\")\n",
    "        time.sleep(1)\n",
    "\n",
    "#Create a daemon thread \n",
    "t = threading.Thread(target=background_worker, daemon = True)\n",
    "t.start() \n",
    "\n",
    "#Main thread sleeps for 3 seconds before exiting \n",
    "time.sleep(3)\n",
    "print(\"main thread exiting\")\n",
    "stop_flag.set() \n",
    "t.join() "
   ]
  }
 ],
 "metadata": {
  "kernelspec": {
   "display_name": "Python 3",
   "language": "python",
   "name": "python3"
  },
  "language_info": {
   "codemirror_mode": {
    "name": "ipython",
    "version": 3
   },
   "file_extension": ".py",
   "mimetype": "text/x-python",
   "name": "python",
   "nbconvert_exporter": "python",
   "pygments_lexer": "ipython3",
   "version": "3.10.11"
  }
 },
 "nbformat": 4,
 "nbformat_minor": 2
}
