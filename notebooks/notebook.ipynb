{
 "cells": [
  {
   "cell_type": "markdown",
   "metadata": {},
   "source": [
    "# Defining functions In Python\n",
    "- Functions are usually defined by `def` keyword in Python\n",
    "#### Syntax\n",
    "```Python\n",
    "def function_name(parameters): \n",
    "    # code block \n",
    "    return value # optional \n",
    "```\n"
   ]
  },
  {
   "cell_type": "code",
   "execution_count": 2,
   "metadata": {},
   "outputs": [
    {
     "name": "stdout",
     "output_type": "stream",
     "text": [
      "Hello Alice!\n"
     ]
    }
   ],
   "source": [
    "## simple example\n",
    "def greet(name): \n",
    "    return f\"Hello {name}!\"\n",
    "\n",
    "print(greet(\"Alice\"))"
   ]
  },
  {
   "cell_type": "markdown",
   "metadata": {},
   "source": [
    "#### Parameters and Arguments \n",
    "**parameters** are variables listed inside the parentheses in the function definition. \n",
    "**Arguments** are the values passed to the function when it is called \n"
   ]
  },
  {
   "cell_type": "code",
   "execution_count": 3,
   "metadata": {},
   "outputs": [
    {
     "name": "stdout",
     "output_type": "stream",
     "text": [
      "5\n"
     ]
    }
   ],
   "source": [
    "#Example \n",
    "def add(a,b): \n",
    "    return a +b \n",
    "\n",
    "print(add(2,3))"
   ]
  },
  {
   "cell_type": "markdown",
   "metadata": {},
   "source": [
    "**Keyword Arguments**: In keyword arguments, you can pass values explicitly specifying the parameter name, allowing them to be passed in any order \n"
   ]
  },
  {
   "cell_type": "code",
   "execution_count": 4,
   "metadata": {},
   "outputs": [
    {
     "name": "stdout",
     "output_type": "stream",
     "text": [
      "5\n"
     ]
    }
   ],
   "source": [
    "print(add(b=3, a=2))"
   ]
  },
  {
   "cell_type": "markdown",
   "metadata": {},
   "source": [
    "#### Default Arguments \n",
    "- functions can have default parameter values, which are used when an argument is not passed during the function call. "
   ]
  },
  {
   "cell_type": "code",
   "execution_count": 5,
   "metadata": {},
   "outputs": [
    {
     "name": "stdout",
     "output_type": "stream",
     "text": [
      "Hello, Guest!\n",
      "Hello, Alice!\n"
     ]
    }
   ],
   "source": [
    "def greet(name=\"Guest\"): \n",
    "    return f\"Hello, {name}!\"\n",
    "\n",
    "print(greet())\n",
    "print(greet(\"Alice\"))"
   ]
  },
  {
   "cell_type": "markdown",
   "metadata": {},
   "source": [
    "#### Variable-Length Arguments \n",
    "- Python allows functions to accept arbitrary numbers of arguments using `*args`(for non-keyword arguments) and `**kwargs` (for keyword arguments) \n",
    "- `args` collects positional arguments into a tuple \n",
    "- `**kwargs` collects keyword arguments into a dictionary \n"
   ]
  },
  {
   "cell_type": "code",
   "execution_count": 8,
   "metadata": {},
   "outputs": [
    {
     "name": "stdout",
     "output_type": "stream",
     "text": [
      "name: Alice\n",
      "age: 25\n",
      "country: USA\n"
     ]
    }
   ],
   "source": [
    "## Example of `**kwargs`\n",
    "def print_info(**info): \n",
    "    for key, value in info.items(): \n",
    "        print(f\"{key}: {value}\") \n",
    "\n",
    "print_info(name=\"Alice\", age=25, country=\"USA\") \n",
    "\n",
    "\n",
    "\n"
   ]
  },
  {
   "cell_type": "markdown",
   "metadata": {},
   "source": [
    "#### Scope and Lifetime of Variables\n",
    "**Local scope**: Variables defined inside a function are local to that function and cannot be accessed outside of it. \n",
    "**Global scope**: Variables defined outside any function are global and can be accessed inside functions, though to modify them inside a function, you need to use the global keyword\n"
   ]
  },
  {
   "cell_type": "code",
   "execution_count": 9,
   "metadata": {},
   "outputs": [
    {
     "name": "stdout",
     "output_type": "stream",
     "text": [
      "5\n"
     ]
    }
   ],
   "source": [
    "x = 10 # global variable\n",
    "\n",
    "def modify(): \n",
    "    global x \n",
    "    x = 5 # modifies global variable \n",
    "\n",
    "modify() \n",
    "\n",
    "print(x)"
   ]
  },
  {
   "cell_type": "markdown",
   "metadata": {},
   "source": [
    "#### Lambda Function \n",
    "A **lambda** function is a small anonynous function defined using the `lambda` keyword. It can take any number of arguments but has a single expression"
   ]
  },
  {
   "cell_type": "markdown",
   "metadata": {},
   "source": [
    "##### Syntax \n",
    "```Python\n",
    "lambda arguments: expression\n",
    "```"
   ]
  },
  {
   "cell_type": "code",
   "execution_count": 10,
   "metadata": {},
   "outputs": [
    {
     "name": "stdout",
     "output_type": "stream",
     "text": [
      "25\n"
     ]
    }
   ],
   "source": [
    "square = lambda x: x*x \n",
    "print(square(5))"
   ]
  },
  {
   "cell_type": "markdown",
   "metadata": {},
   "source": [
    "#### Docstrings in Functions\n",
    "- They document what a function does. It is written as the first statement inside a function using triple quotes \n",
    "  "
   ]
  },
  {
   "cell_type": "code",
   "execution_count": 11,
   "metadata": {},
   "outputs": [
    {
     "name": "stdout",
     "output_type": "stream",
     "text": [
      " This function greets the person whose name is passed \n"
     ]
    }
   ],
   "source": [
    "def greet(name): \n",
    "    \"\"\" This function greets the person whose name is passed \"\"\"\n",
    "    return f\"Hello, {name}!\"\n",
    "print(greet.__doc__)"
   ]
  },
  {
   "cell_type": "markdown",
   "metadata": {},
   "source": [
    "#### Higher-order functions\n",
    "- In python, functions are treated as first-class citizens, meaning they can be passed as arguments to other functions, returned fro`m other functions, or assigned to variables. "
   ]
  },
  {
   "cell_type": "code",
   "execution_count": null,
   "metadata": {},
   "outputs": [],
   "source": [
    "def apply_function(func, value): \n",
    "    return func(value)"
   ]
  }
 ],
 "metadata": {
  "kernelspec": {
   "display_name": "Python 3",
   "language": "python",
   "name": "python3"
  },
  "language_info": {
   "codemirror_mode": {
    "name": "ipython",
    "version": 3
   },
   "file_extension": ".py",
   "mimetype": "text/x-python",
   "name": "python",
   "nbconvert_exporter": "python",
   "pygments_lexer": "ipython3",
   "version": "3.10.11"
  }
 },
 "nbformat": 4,
 "nbformat_minor": 2
}
