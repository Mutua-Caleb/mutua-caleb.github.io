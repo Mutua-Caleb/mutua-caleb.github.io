{
 "cells": [
  {
   "cell_type": "markdown",
   "metadata": {},
   "source": [
    "# Higher Order Functions In Python \n",
    "- HOF take one or more functions as arguments, return a function, or both.\n",
    "-  This allows for more abstract and flexible programming patterns \n",
    "\n",
    "#### Functions as First-class Citizens \n",
    "- In Python functions are first-class citizens. This means you can pass them as arguments to other functions, return them from other functions, and assign them to variables.  HOF leverage this feature "
   ]
  },
  {
   "cell_type": "code",
   "execution_count": 9,
   "metadata": {},
   "outputs": [
    {
     "name": "stdout",
     "output_type": "stream",
     "text": [
      "Hello\n"
     ]
    }
   ],
   "source": [
    "# Example \n",
    "def greet(): \n",
    "    return \"Hello\"\n",
    "\n",
    "def call_func(func): \n",
    "    return func() \n",
    "\n",
    "# passing the greet fun to call_func \n",
    "\n",
    "print(call_func(greet))"
   ]
  },
  {
   "cell_type": "markdown",
   "metadata": {},
   "source": [
    "- In the example above call_func is a higher-order function because it accepts another function(greet) as an argument "
   ]
  },
  {
   "cell_type": "markdown",
   "metadata": {},
   "source": [
    "#### Returning functions from functions \n",
    "   - A higher order function can also return a function as its result"
   ]
  },
  {
   "cell_type": "code",
   "execution_count": 3,
   "metadata": {},
   "outputs": [
    {
     "name": "stdout",
     "output_type": "stream",
     "text": [
      "15\n"
     ]
    }
   ],
   "source": [
    "### example \n",
    "def create_multiplier(x): \n",
    "    def multiplier(y): \n",
    "        return x * y \n",
    "    return multiplier \n",
    "\n",
    "times_three = create_multiplier(3)\n",
    "print(times_three(5))"
   ]
  },
  {
   "cell_type": "markdown",
   "metadata": {},
   "source": [
    "- Here, `create_multiplier` returns a new function(`multiplier`) that multiplies its argument by `x`. The returned function is then stored in `times_three`, which can be used to multiply any number by 3 "
   ]
  },
  {
   "cell_type": "markdown",
   "metadata": {},
   "source": [
    "#### Common Higher-Order Function in Python \n",
    "- Python has several built-in higher-order functions, which are useful for operations like mapping, filtering, and reducing data \n",
    "- `map`: Applies a function to all items in an iterable(e.g list) \n"
   ]
  },
  {
   "cell_type": "code",
   "execution_count": 5,
   "metadata": {},
   "outputs": [
    {
     "name": "stdout",
     "output_type": "stream",
     "text": [
      "[1, 4, 9, 16]\n"
     ]
    }
   ],
   "source": [
    "nums = [1,2,3,4]\n",
    "squared = list(map(lambda x: x** 2, nums))\n",
    "print(squared)"
   ]
  },
  {
   "cell_type": "markdown",
   "metadata": {},
   "source": [
    "- `filter`: filters elements in an iterable based on a function that returns `True` or `False` "
   ]
  },
  {
   "cell_type": "code",
   "execution_count": 6,
   "metadata": {},
   "outputs": [
    {
     "name": "stdout",
     "output_type": "stream",
     "text": [
      "[2, 4]\n"
     ]
    }
   ],
   "source": [
    "nums = [1,2,3,4]\n",
    "evens = list(filter(lambda x: x%2 == 0, nums))\n",
    "print(evens)"
   ]
  },
  {
   "cell_type": "markdown",
   "metadata": {},
   "source": [
    "- `reduce`: Applies a function cumulatively to the items of an iterable, reducing it to a single value. \n",
    "- You need to import it from `functools` "
   ]
  },
  {
   "cell_type": "code",
   "execution_count": 8,
   "metadata": {},
   "outputs": [
    {
     "name": "stdout",
     "output_type": "stream",
     "text": [
      "24\n"
     ]
    }
   ],
   "source": [
    "from functools import reduce \n",
    "nums = [1,2,3,4]\n",
    "\n",
    "product = reduce(lambda x, y: x * y, nums )\n",
    "print(product)"
   ]
  },
  {
   "cell_type": "markdown",
   "metadata": {},
   "source": [
    "#### Decorators \n",
    "- A decorator is a special type of higher-order functions that 'wraps' another function, adding additional behavior to it. \n",
    "- it's commonly used for logging, authentication, timing, etc "
   ]
  },
  {
   "cell_type": "code",
   "execution_count": 10,
   "metadata": {},
   "outputs": [
    {
     "name": "stdout",
     "output_type": "stream",
     "text": [
      "Something extra before the function call \n",
      "Hello!\n",
      "something extra after the function call. \n"
     ]
    }
   ],
   "source": [
    "#Example: simple decorator \n",
    "def decorator(func): \n",
    "    def wrapper(): \n",
    "        print(\"Something extra before the function call \")\n",
    "        result = func() \n",
    "        print(\"something extra after the function call. \")\n",
    "        return result \n",
    "    return wrapper \n",
    "\n",
    "@decorator\n",
    "def say_hello(): \n",
    "    print(\"Hello!\")\n",
    "\n",
    "say_hello()\n"
   ]
  },
  {
   "cell_type": "markdown",
   "metadata": {},
   "source": [
    "- In this example, the `decorator` function takes `say_hello` as an argument and adds some behavior before and after calling it. Using the `@decorator` syntax is shorthand for `say_hello=decorator(say_hello)`\n",
    "  "
   ]
  },
  {
   "cell_type": "markdown",
   "metadata": {},
   "source": [
    "#### Currying \n",
    "- Here, a function that takes multiple arguments is transformed into a series of functions, each with a single argument.\n",
    "- Python doesn't enforce currying natively, but you can achieve it manually with higher-order functions \n",
    " \n"
   ]
  },
  {
   "cell_type": "code",
   "execution_count": 11,
   "metadata": {},
   "outputs": [
    {
     "name": "stdout",
     "output_type": "stream",
     "text": [
      "15\n"
     ]
    }
   ],
   "source": [
    "# example curried function \n",
    "def curried_add(x): \n",
    "    def add_to(y):\n",
    "        return x + y \n",
    "    return add_to \n",
    "\n",
    "add_five = curried_add(5)\n",
    "print(add_five(10))"
   ]
  }
 ],
 "metadata": {
  "kernelspec": {
   "display_name": "Python 3",
   "language": "python",
   "name": "python3"
  },
  "language_info": {
   "codemirror_mode": {
    "name": "ipython",
    "version": 3
   },
   "file_extension": ".py",
   "mimetype": "text/x-python",
   "name": "python",
   "nbconvert_exporter": "python",
   "pygments_lexer": "ipython3",
   "version": "3.10.11"
  }
 },
 "nbformat": 4,
 "nbformat_minor": 2
}
