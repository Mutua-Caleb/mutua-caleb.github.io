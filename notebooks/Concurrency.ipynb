{
 "cells": [
  {
   "cell_type": "markdown",
   "metadata": {},
   "source": [
    "## 1 Thread-based Concurrency( `threading` Module)\n",
    "\n",
    "Concurrency in Python refers to the ability of a program to perform multiple tasks simultaneously, or at least make it *appear* that multiple tasks are being executed simultaneously. Python offers several models of concurrency: \n",
    "\n",
    "1. **Thread-based concurrency**(using the `threading` module)\n",
    "2. **Process-based concurrency** (Using the  ` multiprocessing ` module)\n",
    "3. **Asynchronous I/O**(Using the  `asyncio` module) \n",
    "4. **Concurrent futures**(using the  `concurrent.futures` module). \n",
    "\n",
    "We'll only talk about   Threading based concurrency( `threading`  module)\n",
    "\n",
    "- Threads allow parallel execution of tasks. A thread is lightweight unit of process execution, but Python's Global Interpreter Lock(GIL) ensures that only one thread runs at a time per python process, limiting true parallelism for CPU-bound tasks \n",
    "\n",
    "**Best suited for**: \n",
    "  - I/O-bound tasks like reading from disk, web-scraping, network I/O etc \n",
    "\n",
    "**example** "
   ]
  },
  {
   "cell_type": "code",
   "execution_count": 7,
   "metadata": {},
   "outputs": [
    {
     "name": "stdout",
     "output_type": "stream",
     "text": [
      "worker thread started\n",
      "worker thread started\n",
      "worker thread finished\n",
      "worker thread finished\n",
      "Both threads completed\n"
     ]
    }
   ],
   "source": [
    "import threading \n",
    "import time \n",
    "\n",
    "def worker(): \n",
    "    print(f\"worker thread started\")\n",
    "    time.sleep(2)\n",
    "    print(f\"worker thread finished\")\n",
    "\n",
    "#Create two threads \n",
    "thread1 = threading.Thread(target=worker)\n",
    "thread2 = threading.Thread(target=worker)\n",
    "\n",
    "#start threads \n",
    "thread1.start() \n",
    "thread2.start() \n",
    "\n",
    "#Waiting for both threads to complete \n",
    "thread1.join()\n",
    "thread2.join() \n",
    "\n",
    "print(\"Both threads completed\")"
   ]
  },
  {
   "cell_type": "markdown",
   "metadata": {},
   "source": [
    "**Key Points**: \n",
    "1. Threads share the same memory space\n",
    "2. Python's GIL limits true parallel execution for CPU-bound tasks\n",
    "3. Great for I/O bound tasks like network requests, file I/0 etc"
   ]
  },
  {
   "cell_type": "markdown",
   "metadata": {},
   "source": [
    " ## 2. Process-based concurrency( `multiprocessing` module )\n",
    "  `multiprocessing`  module creates separate processes. Each process has its own python interpreter and memory space, bypassing the GIL. This makes  `multiprocessing` suitable for CPU-bound tasks, as each process runs on a different CPU core. \n",
    "  - **Best suited for?** \n",
    "        - CPU-bound tasks(e.g heavy computation, matrix operations)\n",
    "  "
   ]
  },
  {
   "cell_type": "code",
   "execution_count": 11,
   "metadata": {},
   "outputs": [
    {
     "name": "stdout",
     "output_type": "stream",
     "text": [
      "Both Processes completed\n"
     ]
    }
   ],
   "source": [
    "import multiprocessing \n",
    "import time\n",
    "\n",
    "def worker(): \n",
    "    print(f\"Worker process started\")\n",
    "    time.sleep(2)\n",
    "    print(f\"Worker process finished\")\n",
    "\n",
    "#Creates two processes \n",
    "process1 = multiprocessing.Process(target=worker)\n",
    "process2 = multiprocessing.Process(target=worker)\n",
    "\n",
    "#Start process \n",
    "process1.start() \n",
    "process2.start() \n",
    "\n",
    "#wait for both processes to complete \n",
    "process1.join() \n",
    "process2.join() \n",
    "\n",
    "print(\"Both Processes completed\")"
   ]
  },
  {
   "cell_type": "markdown",
   "metadata": {},
   "source": [
    "**Key Points**\n",
    "- Each process has its own memory space, eliminating the GIL problem \n",
    "- Processes don't share memory easily, requiring inter-process communication (IPC) like queues, pipes, or shared memory\n",
    "- Higher overhead compared to threads due to process creation \n",
    "\n",
    "## 3. Asynchronous programming( `asyncio` module)\n",
    "-  `asyncio` is designed for single-threaded, single-process concurrency , where tasks are run asynchronously. Instead of blocking for I/O operations, tasks await the result while other tasks are allowed to run. It's highly efficient for I/O-bound programs but doesn't involve true parallelism like threads or processes. \n",
    "-   **best suited for**\n",
    "    -   High-concurrency, I/O-bound tasks(e.g network requests, file I/O)   "
   ]
  },
  {
   "cell_type": "code",
   "execution_count": 1,
   "metadata": {},
   "outputs": [
    {
     "name": "stdout",
     "output_type": "stream",
     "text": [
      "Worker started\n",
      "Worker started\n"
     ]
    },
    {
     "name": "stdout",
     "output_type": "stream",
     "text": [
      "Worker finished\n",
      "Worker finished\n"
     ]
    }
   ],
   "source": [
    "import asyncio\n",
    "\n",
    "async def worker():\n",
    "    print(\"Worker started\")\n",
    "    await asyncio.sleep(2)  # Simulates I/O-bound operation\n",
    "    print(\"Worker finished\")\n",
    "\n",
    "async def main():\n",
    "    task1 = asyncio.create_task(worker())\n",
    "    task2 = asyncio.create_task(worker())\n",
    "\n",
    "    await task1\n",
    "    await task2\n",
    "\n",
    "# If you're in an environment with an already running event loop, use `await` instead of `asyncio.run()`\n",
    "await main()\n"
   ]
  },
  {
   "cell_type": "markdown",
   "metadata": {},
   "source": [
    "## 4. Concurrent Futures( `concurrent.futures` Module )**\n",
    " - `concurrent.futures` is a high-level interface for both threads and processes. \n",
    " -  It abstracts threading and multiprocessing with the  `ThreadPoolExecutor`  and  `ProcessPoolExecutor`  classes.You submit tasks, which return  `Future` objects that represent the results of async operations \n",
    "  \n",
    "  **Best suited for**: \n",
    "   - Both I/O-bound and CPU-bound tasks, depending on whether threads or processes are used. "
   ]
  },
  {
   "cell_type": "code",
   "execution_count": 18,
   "metadata": {},
   "outputs": [
    {
     "name": "stdout",
     "output_type": "stream",
     "text": [
      "Worker startedWorker started\n",
      "\n",
      "worker finishedworker finished\n",
      "\n",
      "None\n",
      "None\n"
     ]
    }
   ],
   "source": [
    "from concurrent.futures import ThreadPoolExecutor\n",
    "import time \n",
    "\n",
    "def worker():\n",
    "    print(\"Worker started\")\n",
    "    time.sleep(2)\n",
    "    print(\"worker finished\")\n",
    "\n",
    "with ThreadPoolExecutor(max_workers=2) as executor: \n",
    "    future1 = executor.submit(worker)\n",
    "    future2 = executor.submit(worker)\n",
    "\n",
    "#Block until results are available \n",
    "print(future1.result())\n",
    "print(future2.result())"
   ]
  },
  {
   "cell_type": "markdown",
   "metadata": {},
   "source": [
    "**Key Points**\n",
    "- The same  interface can handle both threads(`ThreadPoolExecutor`)and processes(`ProcessPoolExecutor`)\n",
    "- Makes it easy to submit jobs and retrieve their results via  `Future` objects \n",
    "\n",
    "**Concurrency and GIL**\n",
    "- Python's GIL(Global Interpreter Lock) afects CPU-bound programs running in threads, as only one thread can execute Python bytecode at a time. For CPU-bound tasks, use the  `multiprocessing` module, which runs processes instead of threads and avoids the GIL\n",
    "##### Why does the Python's Global interpreter Lock limit parallelism?\n",
    "- This is a mechanism in CPython that ensures that only one thread executes Python bytecode at a time, even if the program has multiple threads. This design choice simplifies memory management\n",
    "- Here's a breakdown of why Python uses the GIL and the trade-offs involved\n",
    "  1. **Memory Management and Reference counting**\n",
    "        1. One of the primary reasons for the GIL is CPYthon memory management, specifically its use of **reference counting** for garbage collection. In Python, each object has an associated reference count that tracks how many references to that object exist\n",
    "\n",
    "**Example**\n",
    "   \n",
    "  ```Python\n",
    "  a = []\n",
    "  b = a # Reference count of the list increases by 1\n",
    "  ```\n",
    "- When the reference count of an object drops to zero, the memory associated with that object is freed\n",
    "  - Without the GIL, multiple threads accessing and modifying the reference counts simultaneously could lead to **race conditions**. Two threads could try to modify the reference count of the same object at the same time, corrupting the memory management system. \n",
    "  - The GIL ensures *thread safety* by allowing only one thread to execute Python bytecode at a time. This eliminates the need for locking mechanism around reference counting\n",
    "\n",
    "2. **Simplifying C extensions** \n",
    "Python's GIL simplifies the writing of C extensions for Python. Many external libraries, especially those written in C, expect to handle data structures without worrying about concurrency. The GIL ensures that they don't need to implement thread-safety mechanisms in their code\n",
    "\n",
    "3. **Historical reason**\n",
    "When Python ws first designed in the late 1980s and early 1990s, **threading** and **multi-core** processors were not as common or as important as they are today. The GIL was a simple and effective way to handle concurrency for I/O-bound tasks, which was the primary use case at the time. Removing the GIL later, when Python was more widely used, became complicated due to backward compatibility concerns and the need to maintain efficiency \n",
    "\n",
    " #### Trade-Offs: GIL's impact on Performance\n",
    "   - *pros*\n",
    "   - **simplicity**: The GIL's makes the implementation of Cpython simpler. It avoids complex locking mechanisms that would need to be added to memory management, which would slow down single-threaded code execution\n",
    "   - **single-threaded performane**: The GIL allows Python to avoid frequent locking and unlocking in single-threaded programs, meaning that single-threaded apps run efficiently\n",
    "\n",
    "  - *cons*\n",
    "  - **CPU-bound tasks in multithreaded programs** The GIL severely limits multi-threaded performance for CPU-bound tasks (like computations). Even if you create multiple threads, only one thread can execute Python bytecode at any given time. So, multi-core systems can't fully utilize their CPUs for parallel processing in CPU-bound Python code \n",
    "  -  **I/O-bound tasks**: For I/O-bound tasks, the GIL doesn't pose much of an issue because threads spend a lot of time waiting for I/O operations (like reading from a disk or a network). During these waits, the GIL is released, allowing other threads to run. \n",
    "  \n",
    "#### Is it Possible to Remove the GIL? \n",
    "There have been several attempts to remove the GIL, such as: \n",
    "- **PyPy**: An alternative implementation of Python, which aims to remove the GIL while optimising performance. However, PyPy has not been fully successful in eliminating the GIL without performance penalties\n",
    "- **Larry Hastings Gilectomy**: A project aimed at removing the GIL in CPython. While it succeeded in eliminating the GIL, it showed significant performance degradation in single-threaded applications due to the overhead of fine-grained locking mechanisms\n"
   ]
  },
  {
   "cell_type": "markdown",
   "metadata": {},
   "source": []
  }
 ],
 "metadata": {
  "kernelspec": {
   "display_name": "Python 3",
   "language": "python",
   "name": "python3"
  },
  "language_info": {
   "codemirror_mode": {
    "name": "ipython",
    "version": 3
   },
   "file_extension": ".py",
   "mimetype": "text/x-python",
   "name": "python",
   "nbconvert_exporter": "python",
   "pygments_lexer": "ipython3",
   "version": "3.10.11"
  }
 },
 "nbformat": 4,
 "nbformat_minor": 2
}
